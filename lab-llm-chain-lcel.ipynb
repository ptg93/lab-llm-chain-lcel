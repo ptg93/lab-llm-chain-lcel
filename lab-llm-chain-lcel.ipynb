{
 "cells": [
  {
   "cell_type": "markdown",
   "id": "9316da0d",
   "metadata": {},
   "source": [
    "# Lab | Simple LLM App with LCEL\n",
    "\n",
    "In this quickstart we'll show you how to build a simple LLM application with LangChain. This application will translate text from English into another language. This is a relatively simple LLM application - it's just a single LLM call plus some prompting. Still, this is a great way to get started with LangChain - a lot of features can be built with just some prompting and an LLM call!\n",
    "\n",
    "### LangSmith\n",
    "\n",
    "Many of the applications you build with LangChain will contain multiple steps with multiple invocations of LLM calls.\n",
    "As these applications get more and more complex, it becomes crucial to be able to inspect what exactly is going on inside your chain or agent.\n",
    "The best way to do this is with [LangSmith](https://smith.langchain.com).\n",
    "\n",
    "After you sign up at the link above, make sure to set your environment variables to start logging traces:\n",
    "\n",
    "```shell\n",
    "export LANGCHAIN_TRACING_V2=\"true\"\n",
    "export LANGCHAIN_API_KEY=\"...\"\n",
    "```\n",
    "\n",
    "Or, if in a notebook, you can set them with:\n",
    "\n",
    "```python\n",
    "import getpass\n",
    "import os\n",
    "\n",
    "os.environ[\"LANGCHAIN_TRACING_V2\"] = \"true\"\n",
    "os.environ[\"LANGCHAIN_API_KEY\"] = getpass.getpass()\n",
    "```"
   ]
  },
  {
   "cell_type": "code",
   "execution_count": 94,
   "id": "e4b41234",
   "metadata": {},
   "outputs": [],
   "source": [
    "# | output: false\n",
    "# | echo: false\n",
    "import os\n",
    "from langchain_openai import ChatOpenAI\n",
    "from dotenv import load_dotenv, find_dotenv\n",
    "\n",
    "_ = load_dotenv(find_dotenv())\n",
    "\n",
    "OPENAI_API_KEY  = os.getenv('OPENAI_API_KEY')\n",
    "\n",
    "model = ChatOpenAI(model_name=\"gpt-3.5-turbo\", api_key=OPENAI_API_KEY, temperature=0.7)"
   ]
  },
  {
   "cell_type": "markdown",
   "id": "ca5642ff",
   "metadata": {},
   "source": [
    "Let's first use the model directly. `ChatModel`s are instances of LangChain \"Runnables\", which means they expose a standard interface for interacting with them. To just simply call the model, we can pass in a list of messages to the `.invoke` method."
   ]
  },
  {
   "cell_type": "code",
   "execution_count": 95,
   "id": "1b2481f0",
   "metadata": {},
   "outputs": [
    {
     "data": {
      "text/plain": [
       "AIMessage(content='CIAO RAGAZZO MIO, COME STAI?', response_metadata={'token_usage': {'completion_tokens': 15, 'prompt_tokens': 28, 'total_tokens': 43}, 'model_name': 'gpt-3.5-turbo-0125', 'system_fingerprint': None, 'finish_reason': 'stop', 'logprobs': None}, id='run-885e90d7-efe7-4923-847a-51d2bf45039e-0', usage_metadata={'input_tokens': 28, 'output_tokens': 15, 'total_tokens': 43})"
      ]
     },
     "execution_count": 95,
     "metadata": {},
     "output_type": "execute_result"
    }
   ],
   "source": [
    "from langchain_core.messages import HumanMessage, SystemMessage\n",
    "\n",
    "messages = [\n",
    "    SystemMessage(content=\"Translate the following from English into Italian\"), #Feel free to try something else here\n",
    "    HumanMessage(content=\"HELLO MY BOY, HOW ARE YOU?\"),\n",
    "]\n",
    "messages2 = [\n",
    "    SystemMessage(content=\"Transform any input message into a short poem in a random language\"), #Feel free to try something else here\n",
    "    HumanMessage(content=\"HELLO MY BOY, HOW ARE YOU?\"),\n",
    "]\n",
    "\n",
    "model.invoke(messages)"
   ]
  },
  {
   "cell_type": "markdown",
   "id": "f83373db",
   "metadata": {},
   "source": [
    "If we've enable LangSmith, we can see that this run is logged to LangSmith, and can see the [LangSmith trace](https://smith.langchain.com/public/88baa0b2-7c1a-4d09-ba30-a47985dde2ea/r)"
   ]
  },
  {
   "cell_type": "markdown",
   "id": "32bd03ed",
   "metadata": {},
   "source": [
    "## OutputParsers\n",
    "\n",
    "Notice that the response from the model is an `AIMessage`. This contains a string response along with other metadata about the response. Oftentimes we may just want to work with the string response. We can parse out just this response by using a simple output parser.\n",
    "\n",
    "We first import the simple output parser."
   ]
  },
  {
   "cell_type": "code",
   "execution_count": 96,
   "id": "d7ae9c58",
   "metadata": {},
   "outputs": [],
   "source": [
    "from langchain_core.output_parsers import StrOutputParser\n",
    "\n",
    "parser = StrOutputParser()"
   ]
  },
  {
   "cell_type": "markdown",
   "id": "eaebe33a",
   "metadata": {},
   "source": [
    "One way to use it is to use it by itself. For example, we could save the result of the language model call and then pass it to the parser."
   ]
  },
  {
   "cell_type": "code",
   "execution_count": 97,
   "id": "6bacb837",
   "metadata": {},
   "outputs": [],
   "source": [
    "result = model.invoke(messages)"
   ]
  },
  {
   "cell_type": "code",
   "execution_count": 98,
   "id": "efb8da87",
   "metadata": {},
   "outputs": [
    {
     "data": {
      "text/plain": [
       "'Ciao ragazzo mio, come stai?'"
      ]
     },
     "execution_count": 98,
     "metadata": {},
     "output_type": "execute_result"
    }
   ],
   "source": [
    "parser.invoke(result)"
   ]
  },
  {
   "cell_type": "code",
   "execution_count": 99,
   "id": "69cb8805-fd31-457e-b4fc-b22f57630dbc",
   "metadata": {},
   "outputs": [
    {
     "data": {
      "text/plain": [
       "'Salut mon garçon, comment vas-tu?\\nTes yeux brillent comme le ciel bleu.\\nLa vie est belle, profite-en bien,\\nSuis ton cœur, il te mènera loin.'"
      ]
     },
     "execution_count": 99,
     "metadata": {},
     "output_type": "execute_result"
    }
   ],
   "source": [
    "parser.invoke(model.invoke(messages2))"
   ]
  },
  {
   "cell_type": "markdown",
   "id": "d508b79d",
   "metadata": {},
   "source": [
    "More commonly, we can \"chain\" the model with this output parser. This means this output parser will get called everytime in this chain. This chain takes on the input type of the language model (string or list of message) and returns the output type of the output parser (string).\n",
    "\n",
    "We can easily create the chain using the `|` operator. The `|` operator is used in LangChain to combine two elements together."
   ]
  },
  {
   "cell_type": "code",
   "execution_count": 100,
   "id": "9449cfa6",
   "metadata": {},
   "outputs": [],
   "source": [
    "from langchain.chains import LLMChain\n",
    "from langchain.llms import OpenAI\n",
    "from langchain.prompts import PromptTemplate\n",
    "chain = model|parser"
   ]
  },
  {
   "cell_type": "code",
   "execution_count": 101,
   "id": "3e82f933",
   "metadata": {},
   "outputs": [
    {
     "data": {
      "text/plain": [
       "'CIAO RAGAZZO MIO, COME STAI?'"
      ]
     },
     "execution_count": 101,
     "metadata": {},
     "output_type": "execute_result"
    }
   ],
   "source": [
    "chain.invoke(messages)"
   ]
  },
  {
   "cell_type": "markdown",
   "id": "dd009096",
   "metadata": {},
   "source": [
    "If we now look at LangSmith, we can see that the chain has two steps: first the language model is called, then the result of that is passed to the output parser. We can see the [LangSmith trace]( https://smith.langchain.com/public/f1bdf656-2739-42f7-ac7f-0f1dd712322f/r)"
   ]
  },
  {
   "cell_type": "markdown",
   "id": "1ab8da31",
   "metadata": {},
   "source": [
    "## Prompt Templates\n",
    "\n",
    "Right now we are passing a list of messages directly into the language model. Where does this list of messages come from? Usually, it is constructed from a combination of user input and application logic. This application logic usually takes the raw user input and transforms it into a list of messages ready to pass to the language model. Common transformations include adding a system message or formatting a template with the user input.\n",
    "\n",
    "PromptTemplates are a concept in LangChain designed to assist with this transformation. They take in raw user input and return data (a prompt) that is ready to pass into a language model. \n",
    "\n",
    "Let's create a PromptTemplate here. It will take in two user variables:\n",
    "\n",
    "- `language`: The language to translate text into\n",
    "- `text`: The text to translate"
   ]
  },
  {
   "cell_type": "code",
   "execution_count": 80,
   "id": "3e73cc20",
   "metadata": {},
   "outputs": [],
   "source": [
    "from langchain_core.prompts import ChatPromptTemplate"
   ]
  },
  {
   "cell_type": "markdown",
   "id": "7e876c2a",
   "metadata": {},
   "source": [
    "First, let's create a string that we will format to be the system message:"
   ]
  },
  {
   "cell_type": "code",
   "execution_count": 81,
   "id": "fd75ecde",
   "metadata": {},
   "outputs": [],
   "source": [
    "system_template = \"Translate the following into {language}:\""
   ]
  },
  {
   "cell_type": "markdown",
   "id": "fedf6f13",
   "metadata": {},
   "source": [
    "Next, we can create the PromptTemplate. This will be a combination of the `system_template` as well as a simpler template for where the put the text"
   ]
  },
  {
   "cell_type": "code",
   "execution_count": 82,
   "id": "88e566f3",
   "metadata": {},
   "outputs": [],
   "source": [
    "prompt_template = ChatPromptTemplate.from_messages(\n",
    "    [(\"system\", system_template), (\"user\", \"{text}\")]\n",
    ")"
   ]
  },
  {
   "cell_type": "markdown",
   "id": "d9711ba6",
   "metadata": {},
   "source": [
    "The input to this prompt template is a dictionary. We can play around with this prompt template by itself to see what it does by itself"
   ]
  },
  {
   "cell_type": "code",
   "execution_count": 90,
   "id": "f781b3cb",
   "metadata": {},
   "outputs": [
    {
     "data": {
      "text/plain": [
       "ChatPromptValue(messages=[SystemMessage(content='Translate the following into italian:'), HumanMessage(content='Hello Beautiful')])"
      ]
     },
     "execution_count": 90,
     "metadata": {},
     "output_type": "execute_result"
    }
   ],
   "source": [
    "result = prompt_template.invoke({\"language\": \"italian\", \"text\": \"Hello Beautiful\"})\n",
    "\n",
    "result"
   ]
  },
  {
   "cell_type": "markdown",
   "id": "1a49ba9e",
   "metadata": {},
   "source": [
    "We can see that it returns a `ChatPromptValue` that consists of two messages. If we want to access the messages directly we do:"
   ]
  },
  {
   "cell_type": "code",
   "execution_count": 84,
   "id": "2159b619",
   "metadata": {},
   "outputs": [
    {
     "data": {
      "text/plain": [
       "[SystemMessage(content='Translate the following into italian:'),\n",
       " HumanMessage(content='La puta madre que te parió, cerda cochina comepenes')]"
      ]
     },
     "execution_count": 84,
     "metadata": {},
     "output_type": "execute_result"
    }
   ],
   "source": [
    "result.to_messages()"
   ]
  },
  {
   "cell_type": "markdown",
   "id": "5a4267a8",
   "metadata": {},
   "source": [
    "## Chaining together components with LCEL\n",
    "\n",
    "We can now combine this with the model and the output parser from above using the pipe (`|`) operator:"
   ]
  },
  {
   "cell_type": "code",
   "execution_count": 88,
   "id": "6c6beb4b",
   "metadata": {},
   "outputs": [],
   "source": [
    "chain = prompt_template|model|parser"
   ]
  },
  {
   "cell_type": "code",
   "execution_count": 89,
   "id": "3e45595a",
   "metadata": {},
   "outputs": [
    {
     "data": {
      "text/plain": [
       "'Preferisco una paella mille volte prima di una pizza'"
      ]
     },
     "execution_count": 89,
     "metadata": {},
     "output_type": "execute_result"
    }
   ],
   "source": [
    "chain.invoke({\"language\": \"italian\", \"text\": \"Prefiero una paella mil veces antes que una pizza\"})"
   ]
  },
  {
   "cell_type": "markdown",
   "id": "0b19cecb",
   "metadata": {},
   "source": [
    "This is a simple example of using [LangChain Expression Language (LCEL)](/docs/concepts/#langchain-expression-language-lcel) to chain together LangChain modules. There are several benefits to this approach, including optimized streaming and tracing support.\n",
    "\n",
    "If we take a look at the LangSmith trace, we can see all three components show up in the [LangSmith trace](https://smith.langchain.com/public/bc49bec0-6b13-4726-967f-dbd3448b786d/r)."
   ]
  },
  {
   "cell_type": "code",
   "execution_count": 91,
   "id": "16270af0-1e1c-4f1b-9cd0-ddede8891a8b",
   "metadata": {},
   "outputs": [
    {
     "name": "stdout",
     "output_type": "stream",
     "text": [
      "Collecting langserve[all]\n",
      "  Downloading langserve-0.2.2-py3-none-any.whl.metadata (39 kB)\n",
      "Requirement already satisfied: httpx>=0.23.0 in c:\\users\\pedro\\anaconda3\\envs\\pytorchcudaenv\\lib\\site-packages (from langserve[all]) (0.27.0)\n",
      "Requirement already satisfied: langchain-core<0.3,>=0.1 in c:\\users\\pedro\\anaconda3\\envs\\pytorchcudaenv\\lib\\site-packages (from langserve[all]) (0.2.10)\n",
      "Requirement already satisfied: orjson>=2 in c:\\users\\pedro\\anaconda3\\envs\\pytorchcudaenv\\lib\\site-packages (from langserve[all]) (3.10.5)\n",
      "Requirement already satisfied: pydantic>=1 in c:\\users\\pedro\\anaconda3\\envs\\pytorchcudaenv\\lib\\site-packages (from langserve[all]) (2.7.4)\n",
      "Collecting pyproject-toml<0.0.11,>=0.0.10 (from langserve[all])\n",
      "  Downloading pyproject_toml-0.0.10-py3-none-any.whl.metadata (642 bytes)\n",
      "Collecting fastapi<1,>=0.90.1 (from langserve[all])\n",
      "  Downloading fastapi-0.111.0-py3-none-any.whl.metadata (25 kB)\n",
      "Collecting sse-starlette<2.0.0,>=1.3.0 (from langserve[all])\n",
      "  Downloading sse_starlette-1.8.2-py3-none-any.whl.metadata (5.4 kB)\n",
      "Collecting starlette<0.38.0,>=0.37.2 (from fastapi<1,>=0.90.1->langserve[all])\n",
      "  Downloading starlette-0.37.2-py3-none-any.whl.metadata (5.9 kB)\n",
      "Requirement already satisfied: typing-extensions>=4.8.0 in c:\\users\\pedro\\anaconda3\\envs\\pytorchcudaenv\\lib\\site-packages (from fastapi<1,>=0.90.1->langserve[all]) (4.11.0)\n",
      "Collecting fastapi-cli>=0.0.2 (from fastapi<1,>=0.90.1->langserve[all])\n",
      "  Downloading fastapi_cli-0.0.4-py3-none-any.whl.metadata (7.0 kB)\n",
      "Requirement already satisfied: jinja2>=2.11.2 in c:\\users\\pedro\\anaconda3\\envs\\pytorchcudaenv\\lib\\site-packages (from fastapi<1,>=0.90.1->langserve[all]) (3.1.4)\n",
      "Collecting python-multipart>=0.0.7 (from fastapi<1,>=0.90.1->langserve[all])\n",
      "  Downloading python_multipart-0.0.9-py3-none-any.whl.metadata (2.5 kB)\n",
      "Collecting ujson!=4.0.2,!=4.1.0,!=4.2.0,!=4.3.0,!=5.0.0,!=5.1.0,>=4.0.1 (from fastapi<1,>=0.90.1->langserve[all])\n",
      "  Downloading ujson-5.10.0-cp39-cp39-win_amd64.whl.metadata (9.5 kB)\n",
      "Collecting email_validator>=2.0.0 (from fastapi<1,>=0.90.1->langserve[all])\n",
      "  Downloading email_validator-2.2.0-py3-none-any.whl.metadata (25 kB)\n",
      "Collecting uvicorn>=0.12.0 (from uvicorn[standard]>=0.12.0->fastapi<1,>=0.90.1->langserve[all])\n",
      "  Downloading uvicorn-0.30.1-py3-none-any.whl.metadata (6.3 kB)\n",
      "Requirement already satisfied: anyio in c:\\users\\pedro\\anaconda3\\envs\\pytorchcudaenv\\lib\\site-packages (from httpx>=0.23.0->langserve[all]) (4.2.0)\n",
      "Requirement already satisfied: certifi in c:\\users\\pedro\\appdata\\roaming\\python\\python39\\site-packages (from httpx>=0.23.0->langserve[all]) (2019.11.28)\n",
      "Requirement already satisfied: httpcore==1.* in c:\\users\\pedro\\anaconda3\\envs\\pytorchcudaenv\\lib\\site-packages (from httpx>=0.23.0->langserve[all]) (1.0.5)\n",
      "Requirement already satisfied: idna in c:\\users\\pedro\\appdata\\roaming\\python\\python39\\site-packages (from httpx>=0.23.0->langserve[all]) (2.8)\n",
      "Requirement already satisfied: sniffio in c:\\users\\pedro\\anaconda3\\envs\\pytorchcudaenv\\lib\\site-packages (from httpx>=0.23.0->langserve[all]) (1.3.0)\n",
      "Requirement already satisfied: h11<0.15,>=0.13 in c:\\users\\pedro\\anaconda3\\envs\\pytorchcudaenv\\lib\\site-packages (from httpcore==1.*->httpx>=0.23.0->langserve[all]) (0.14.0)\n",
      "Requirement already satisfied: PyYAML>=5.3 in c:\\users\\pedro\\anaconda3\\envs\\pytorchcudaenv\\lib\\site-packages (from langchain-core<0.3,>=0.1->langserve[all]) (6.0.1)\n",
      "Requirement already satisfied: jsonpatch<2.0,>=1.33 in c:\\users\\pedro\\anaconda3\\envs\\pytorchcudaenv\\lib\\site-packages (from langchain-core<0.3,>=0.1->langserve[all]) (1.33)\n",
      "Requirement already satisfied: langsmith<0.2.0,>=0.1.75 in c:\\users\\pedro\\anaconda3\\envs\\pytorchcudaenv\\lib\\site-packages (from langchain-core<0.3,>=0.1->langserve[all]) (0.1.82)\n",
      "Requirement already satisfied: packaging<25,>=23.2 in c:\\users\\pedro\\anaconda3\\envs\\pytorchcudaenv\\lib\\site-packages (from langchain-core<0.3,>=0.1->langserve[all]) (23.2)\n",
      "Requirement already satisfied: tenacity!=8.4.0,<9.0.0,>=8.1.0 in c:\\users\\pedro\\anaconda3\\envs\\pytorchcudaenv\\lib\\site-packages (from langchain-core<0.3,>=0.1->langserve[all]) (8.4.2)\n",
      "Requirement already satisfied: annotated-types>=0.4.0 in c:\\users\\pedro\\anaconda3\\envs\\pytorchcudaenv\\lib\\site-packages (from pydantic>=1->langserve[all]) (0.7.0)\n",
      "Requirement already satisfied: pydantic-core==2.18.4 in c:\\users\\pedro\\anaconda3\\envs\\pytorchcudaenv\\lib\\site-packages (from pydantic>=1->langserve[all]) (2.18.4)\n",
      "Requirement already satisfied: setuptools>=42 in c:\\users\\pedro\\anaconda3\\envs\\pytorchcudaenv\\lib\\site-packages (from pyproject-toml<0.0.11,>=0.0.10->langserve[all]) (69.5.1)\n",
      "Requirement already satisfied: wheel in c:\\users\\pedro\\anaconda3\\envs\\pytorchcudaenv\\lib\\site-packages (from pyproject-toml<0.0.11,>=0.0.10->langserve[all]) (0.43.0)\n",
      "Collecting toml (from pyproject-toml<0.0.11,>=0.0.10->langserve[all])\n",
      "  Using cached toml-0.10.2-py2.py3-none-any.whl.metadata (7.1 kB)\n",
      "Requirement already satisfied: jsonschema in c:\\users\\pedro\\anaconda3\\envs\\pytorchcudaenv\\lib\\site-packages (from pyproject-toml<0.0.11,>=0.0.10->langserve[all]) (4.19.2)\n",
      "Requirement already satisfied: dnspython>=2.0.0 in c:\\users\\pedro\\anaconda3\\envs\\pytorchcudaenv\\lib\\site-packages (from email_validator>=2.0.0->fastapi<1,>=0.90.1->langserve[all]) (2.6.1)\n",
      "Collecting typer>=0.12.3 (from fastapi-cli>=0.0.2->fastapi<1,>=0.90.1->langserve[all])\n",
      "  Downloading typer-0.12.3-py3-none-any.whl.metadata (15 kB)\n",
      "Requirement already satisfied: MarkupSafe>=2.0 in c:\\users\\pedro\\anaconda3\\envs\\pytorchcudaenv\\lib\\site-packages (from jinja2>=2.11.2->fastapi<1,>=0.90.1->langserve[all]) (2.1.3)\n",
      "Requirement already satisfied: jsonpointer>=1.9 in c:\\users\\pedro\\anaconda3\\envs\\pytorchcudaenv\\lib\\site-packages (from jsonpatch<2.0,>=1.33->langchain-core<0.3,>=0.1->langserve[all]) (3.0.0)\n",
      "Requirement already satisfied: requests<3,>=2 in c:\\users\\pedro\\anaconda3\\envs\\pytorchcudaenv\\lib\\site-packages (from langsmith<0.2.0,>=0.1.75->langchain-core<0.3,>=0.1->langserve[all]) (2.32.3)\n",
      "Requirement already satisfied: exceptiongroup>=1.0.2 in c:\\users\\pedro\\anaconda3\\envs\\pytorchcudaenv\\lib\\site-packages (from anyio->httpx>=0.23.0->langserve[all]) (1.2.0)\n",
      "Requirement already satisfied: click>=7.0 in c:\\users\\pedro\\appdata\\roaming\\python\\python39\\site-packages (from uvicorn>=0.12.0->uvicorn[standard]>=0.12.0->fastapi<1,>=0.90.1->langserve[all]) (8.1.7)\n",
      "Requirement already satisfied: colorama>=0.4 in c:\\users\\pedro\\appdata\\roaming\\python\\python39\\site-packages (from uvicorn[standard]>=0.12.0->fastapi<1,>=0.90.1->langserve[all]) (0.4.3)\n",
      "Collecting httptools>=0.5.0 (from uvicorn[standard]>=0.12.0->fastapi<1,>=0.90.1->langserve[all])\n",
      "  Downloading httptools-0.6.1-cp39-cp39-win_amd64.whl.metadata (3.7 kB)\n",
      "Requirement already satisfied: python-dotenv>=0.13 in c:\\users\\pedro\\anaconda3\\envs\\pytorchcudaenv\\lib\\site-packages (from uvicorn[standard]>=0.12.0->fastapi<1,>=0.90.1->langserve[all]) (1.0.1)\n",
      "Collecting watchfiles>=0.13 (from uvicorn[standard]>=0.12.0->fastapi<1,>=0.90.1->langserve[all])\n",
      "  Downloading watchfiles-0.22.0-cp39-none-win_amd64.whl.metadata (5.0 kB)\n",
      "Collecting websockets>=10.4 (from uvicorn[standard]>=0.12.0->fastapi<1,>=0.90.1->langserve[all])\n",
      "  Downloading websockets-12.0-cp39-cp39-win_amd64.whl.metadata (6.8 kB)\n",
      "Requirement already satisfied: attrs>=22.2.0 in c:\\users\\pedro\\anaconda3\\envs\\pytorchcudaenv\\lib\\site-packages (from jsonschema->pyproject-toml<0.0.11,>=0.0.10->langserve[all]) (23.1.0)\n",
      "Requirement already satisfied: jsonschema-specifications>=2023.03.6 in c:\\users\\pedro\\anaconda3\\envs\\pytorchcudaenv\\lib\\site-packages (from jsonschema->pyproject-toml<0.0.11,>=0.0.10->langserve[all]) (2023.7.1)\n",
      "Requirement already satisfied: referencing>=0.28.4 in c:\\users\\pedro\\anaconda3\\envs\\pytorchcudaenv\\lib\\site-packages (from jsonschema->pyproject-toml<0.0.11,>=0.0.10->langserve[all]) (0.30.2)\n",
      "Requirement already satisfied: rpds-py>=0.7.1 in c:\\users\\pedro\\anaconda3\\envs\\pytorchcudaenv\\lib\\site-packages (from jsonschema->pyproject-toml<0.0.11,>=0.0.10->langserve[all]) (0.10.6)\n",
      "Requirement already satisfied: charset-normalizer<4,>=2 in c:\\users\\pedro\\anaconda3\\envs\\pytorchcudaenv\\lib\\site-packages (from requests<3,>=2->langsmith<0.2.0,>=0.1.75->langchain-core<0.3,>=0.1->langserve[all]) (2.0.4)\n",
      "Requirement already satisfied: urllib3<3,>=1.21.1 in c:\\users\\pedro\\anaconda3\\envs\\pytorchcudaenv\\lib\\site-packages (from requests<3,>=2->langsmith<0.2.0,>=0.1.75->langchain-core<0.3,>=0.1->langserve[all]) (2.2.1)\n",
      "Collecting shellingham>=1.3.0 (from typer>=0.12.3->fastapi-cli>=0.0.2->fastapi<1,>=0.90.1->langserve[all])\n",
      "  Downloading shellingham-1.5.4-py2.py3-none-any.whl.metadata (3.5 kB)\n",
      "Requirement already satisfied: rich>=10.11.0 in c:\\users\\pedro\\anaconda3\\envs\\pytorchcudaenv\\lib\\site-packages (from typer>=0.12.3->fastapi-cli>=0.0.2->fastapi<1,>=0.90.1->langserve[all]) (13.7.1)\n",
      "Requirement already satisfied: markdown-it-py>=2.2.0 in c:\\users\\pedro\\anaconda3\\envs\\pytorchcudaenv\\lib\\site-packages (from rich>=10.11.0->typer>=0.12.3->fastapi-cli>=0.0.2->fastapi<1,>=0.90.1->langserve[all]) (3.0.0)\n",
      "Requirement already satisfied: pygments<3.0.0,>=2.13.0 in c:\\users\\pedro\\anaconda3\\envs\\pytorchcudaenv\\lib\\site-packages (from rich>=10.11.0->typer>=0.12.3->fastapi-cli>=0.0.2->fastapi<1,>=0.90.1->langserve[all]) (2.15.1)\n",
      "Requirement already satisfied: mdurl~=0.1 in c:\\users\\pedro\\anaconda3\\envs\\pytorchcudaenv\\lib\\site-packages (from markdown-it-py>=2.2.0->rich>=10.11.0->typer>=0.12.3->fastapi-cli>=0.0.2->fastapi<1,>=0.90.1->langserve[all]) (0.1.2)\n",
      "Downloading fastapi-0.111.0-py3-none-any.whl (91 kB)\n",
      "   ---------------------------------------- 0.0/92.0 kB ? eta -:--:--\n",
      "   ---------------------------------------- 92.0/92.0 kB 5.1 MB/s eta 0:00:00\n",
      "Downloading pyproject_toml-0.0.10-py3-none-any.whl (6.9 kB)\n",
      "Downloading sse_starlette-1.8.2-py3-none-any.whl (8.9 kB)\n",
      "Downloading langserve-0.2.2-py3-none-any.whl (1.2 MB)\n",
      "   ---------------------------------------- 0.0/1.2 MB ? eta -:--:--\n",
      "   ---------------------------------------- 1.2/1.2 MB 37.5 MB/s eta 0:00:00\n",
      "Downloading email_validator-2.2.0-py3-none-any.whl (33 kB)\n",
      "Downloading fastapi_cli-0.0.4-py3-none-any.whl (9.5 kB)\n",
      "Downloading python_multipart-0.0.9-py3-none-any.whl (22 kB)\n",
      "Downloading starlette-0.37.2-py3-none-any.whl (71 kB)\n",
      "   ---------------------------------------- 0.0/71.9 kB ? eta -:--:--\n",
      "   ---------------------------------------- 71.9/71.9 kB ? eta 0:00:00\n",
      "Downloading ujson-5.10.0-cp39-cp39-win_amd64.whl (42 kB)\n",
      "   ---------------------------------------- 0.0/42.1 kB ? eta -:--:--\n",
      "   ---------------------------------------- 42.1/42.1 kB 2.0 MB/s eta 0:00:00\n",
      "Downloading uvicorn-0.30.1-py3-none-any.whl (62 kB)\n",
      "   ---------------------------------------- 0.0/62.4 kB ? eta -:--:--\n",
      "   ---------------------------------------- 62.4/62.4 kB 3.5 MB/s eta 0:00:00\n",
      "Using cached toml-0.10.2-py2.py3-none-any.whl (16 kB)\n",
      "Downloading httptools-0.6.1-cp39-cp39-win_amd64.whl (60 kB)\n",
      "   ---------------------------------------- 0.0/60.2 kB ? eta -:--:--\n",
      "   ---------------------------------------- 60.2/60.2 kB ? eta 0:00:00\n",
      "Downloading typer-0.12.3-py3-none-any.whl (47 kB)\n",
      "   ---------------------------------------- 0.0/47.2 kB ? eta -:--:--\n",
      "   ---------------------------------------- 47.2/47.2 kB 2.3 MB/s eta 0:00:00\n",
      "Downloading watchfiles-0.22.0-cp39-none-win_amd64.whl (281 kB)\n",
      "   ---------------------------------------- 0.0/281.9 kB ? eta -:--:--\n",
      "   --------------------------------------- 281.9/281.9 kB 18.1 MB/s eta 0:00:00\n",
      "Downloading websockets-12.0-cp39-cp39-win_amd64.whl (124 kB)\n",
      "   ---------------------------------------- 0.0/125.0 kB ? eta -:--:--\n",
      "   ---------------------------------------- 125.0/125.0 kB 7.2 MB/s eta 0:00:00\n",
      "Downloading shellingham-1.5.4-py2.py3-none-any.whl (9.8 kB)\n",
      "Installing collected packages: websockets, ujson, toml, shellingham, python-multipart, httptools, email_validator, watchfiles, uvicorn, starlette, typer, pyproject-toml, fastapi-cli, langserve, fastapi, sse-starlette\n",
      "Successfully installed email_validator-2.2.0 fastapi-0.111.0 fastapi-cli-0.0.4 httptools-0.6.1 langserve-0.2.2 pyproject-toml-0.0.10 python-multipart-0.0.9 shellingham-1.5.4 sse-starlette-1.8.2 starlette-0.37.2 toml-0.10.2 typer-0.12.3 ujson-5.10.0 uvicorn-0.30.1 watchfiles-0.22.0 websockets-12.0\n"
     ]
    }
   ],
   "source": [
    "!pip install \"langserve[all]\"\n"
   ]
  },
  {
   "cell_type": "markdown",
   "id": "a515ddd0",
   "metadata": {},
   "source": [
    "## Serving with LangServe\n",
    "\n",
    "Now that we've built an application, we need to serve it. That's where LangServe comes in.\n",
    "LangServe helps developers deploy LangChain chains as a REST API. You do not need to use LangServe to use LangChain, but in this guide we'll show how you can deploy your app with LangServe.\n",
    "\n",
    "While the first part of this guide was intended to be run in a Jupyter Notebook or script, we will now move out of that. We will be creating a Python file and then interacting with it from the command line.\n",
    "\n",
    "Install with:\n",
    "```bash\n",
    "pip install \"langserve[all]\"\n",
    "```\n",
    "\n",
    "### Server\n",
    "\n",
    "To create a server for our application we'll make a `serve.py` file. This will contain our logic for serving our application. It consists of three things:\n",
    "1. The definition of our chain that we just built above\n",
    "2. Our FastAPI app\n",
    "3. A definition of a route from which to serve the chain, which is done with `langserve.add_routes`\n",
    "\n",
    "\n",
    "```python\n",
    "#!/usr/bin/env python\n",
    "from typing import List\n",
    "\n",
    "from fastapi import FastAPI\n",
    "from langchain_core.prompts import ChatPromptTemplate\n",
    "from langchain_core.output_parsers import StrOutputParser\n",
    "from langchain_openai import ChatOpenAI\n",
    "from langserve import add_routes\n",
    "\n",
    "# 1. Create prompt template\n",
    "system_template = \"Translate the following into {language}:\"\n",
    "prompt_template = ChatPromptTemplate.from_messages([\n",
    "    ('system', system_template),\n",
    "    ('user', '{text}')\n",
    "])\n",
    "\n",
    "# 2. Create model\n",
    "model = ChatOpenAI()\n",
    "\n",
    "# 3. Create parser\n",
    "parser = StrOutputParser()\n",
    "\n",
    "# 4. Create chain\n",
    "chain = prompt_template | model | parser\n",
    "\n",
    "\n",
    "# 4. App definition\n",
    "app = FastAPI(\n",
    "  title=\"LangChain Server\",\n",
    "  version=\"1.0\",\n",
    "  description=\"A simple API server using LangChain's Runnable interfaces\",\n",
    ")\n",
    "\n",
    "# 5. Adding chain route\n",
    "\n",
    "add_routes(\n",
    "    app,\n",
    "    chain,\n",
    "    path=\"/chain\",\n",
    ")\n",
    "\n",
    "if __name__ == \"__main__\":\n",
    "    import uvicorn\n",
    "\n",
    "    uvicorn.run(app, host=\"localhost\", port=8000)\n",
    "```\n",
    "\n",
    "And that's it! If we execute this file:\n",
    "```bash\n",
    "python serve.py\n",
    "```\n",
    "we should see our chain being served at [http://localhost:8000](http://localhost:8000).\n",
    "\n",
    "### Playground\n",
    "\n",
    "Every LangServe service comes with a simple [built-in UI](https://github.com/langchain-ai/langserve/blob/main/README.md#playground) for configuring and invoking the application with streaming output and visibility into intermediate steps.\n",
    "Head to [http://localhost:8000/chain/playground/](http://localhost:8000/chain/playground/) to try it out! Pass in the same inputs as before - `{\"language\": \"italian\", \"text\": \"hi\"}` - and it should respond same as before.\n",
    "\n",
    "### Client\n",
    "\n",
    "Now let's set up a client for programmatically interacting with our service. We can easily do this with the `[langserve.RemoteRunnable](/docs/langserve/#client)`.\n",
    "Using this, we can interact with the served chain as if it were running client-side."
   ]
  },
  {
   "cell_type": "code",
   "execution_count": 102,
   "id": "85174643",
   "metadata": {},
   "outputs": [
    {
     "data": {
      "text/plain": [
       "'Ciao'"
      ]
     },
     "execution_count": 102,
     "metadata": {},
     "output_type": "execute_result"
    }
   ],
   "source": [
    "from langserve import RemoteRunnable\n",
    "\n",
    "remote_chain = RemoteRunnable(\"http://localhost:8000/chain/\")\n",
    "remote_chain.invoke({\"language\": \"italian\", \"text\": \"Hello there\"})"
   ]
  },
  {
   "cell_type": "markdown",
   "id": "480b78a9",
   "metadata": {},
   "source": [
    "To learn more about the many other features of LangServe [head here](/docs/langserve)."
   ]
  },
  {
   "cell_type": "markdown",
   "id": "befdb168",
   "metadata": {},
   "source": [
    "## Conclusion\n",
    "\n",
    "That's it! In this tutorial you've learned how to create your first simple LLM application. You've learned how to work with language models, how to parse their outputs, how to create a prompt template, chaining them with LCEL, how to get great observability into chains you create with LangSmith, and how to deploy them with LangServe.\n",
    "\n",
    "This just scratches the surface of what you will want to learn to become a proficient AI Engineer. Luckily - we've got a lot of other resources!\n",
    "\n",
    "For further reading on the core concepts of LangChain, we've got detailed [Conceptual Guides](/docs/concepts).\n",
    "\n",
    "If you have more specific questions on these concepts, check out the following sections of the how-to guides:\n",
    "\n",
    "- [LangChain Expression Language (LCEL)](/docs/how_to/#langchain-expression-language-lcel)\n",
    "- [Prompt templates](/docs/how_to/#prompt-templates)\n",
    "- [Chat models](/docs/how_to/#chat-models)\n",
    "- [Output parsers](/docs/how_to/#output-parsers)\n",
    "- [LangServe](/docs/langserve/)\n",
    "\n",
    "And the LangSmith docs:\n",
    "\n",
    "- [LangSmith](https://docs.smith.langchain.com)"
   ]
  },
  {
   "cell_type": "code",
   "execution_count": null,
   "id": "a3d3e206",
   "metadata": {},
   "outputs": [],
   "source": []
  }
 ],
 "metadata": {
  "kernelspec": {
   "display_name": "Python 3 (ipykernel)",
   "language": "python",
   "name": "python3"
  },
  "language_info": {
   "codemirror_mode": {
    "name": "ipython",
    "version": 3
   },
   "file_extension": ".py",
   "mimetype": "text/x-python",
   "name": "python",
   "nbconvert_exporter": "python",
   "pygments_lexer": "ipython3",
   "version": "3.9.19"
  }
 },
 "nbformat": 4,
 "nbformat_minor": 5
}
